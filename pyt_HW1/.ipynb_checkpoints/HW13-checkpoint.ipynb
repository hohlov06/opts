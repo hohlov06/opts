{
 "cells": [
  {
   "cell_type": "markdown",
   "metadata": {},
   "source": [
    "# Домашнее задание 1-3 (продолжение)\n",
    "\n",
    "Домашнее задание выполняется в этом же Jupyter Notebook'e и присылается мне в Piazza через Private Post.\n",
    "Файл с Вашим решением должен называться ```Surname_HW#```, где вместо ```Surname``` Вы пишите свою фамилию латиницей, а вместо ```#``` - номер домашнего задания. \n",
    "Решение задачи необходимо поместить после её условия.\n",
    "\n",
    "Пожалуйста, пишите свои решения чётко и понятно. \n",
    "При полном запуске Вашего решения (Kernel -> Restart & Run All) все ячейки должны выполняться без ошибок. "
   ]
  },
  {
   "cell_type": "markdown",
   "metadata": {},
   "source": [
    "## Задача\n",
    "\n",
    "__1.__ Скачайте с помощью кода, приведённого ниже, набор фотографий и нарисуйте какую-нибудь из них."
   ]
  },
  {
   "cell_type": "code",
   "execution_count": 1,
   "metadata": {},
   "outputs": [
    {
     "name": "stdout",
     "output_type": "stream",
     "text": [
      "downloading Olivetti faces from https://ndownloader.figshare.com/files/5976027 to C:\\Users\\Username\\scikit_learn_data\n"
     ]
    }
   ],
   "source": [
    "import sklearn.datasets as skldata\n",
    "import matplotlib.pyplot as plt\n",
    "import sklearn.decomposition as skdec\n",
    "%matplotlib inline\n",
    "data = skldata.fetch_olivetti_faces()\n",
    "import numpy as np"
   ]
  },
  {
   "cell_type": "code",
   "execution_count": 2,
   "metadata": {},
   "outputs": [
    {
     "name": "stdout",
     "output_type": "stream",
     "text": [
      "Shape of data = (400, 64, 64)\n"
     ]
    },
    {
     "data": {
      "image/png": "[encoded data removed]",
      "text/plain": [
       "<matplotlib.figure.Figure at 0xcb6feb1b70>"
      ]
     },
     "metadata": {},
     "output_type": "display_data"
    }
   ],
   "source": [
    "print(\"Shape of data = {}\".format(data[\"images\"].shape))\n",
    "index = 42\n",
    "plt.imshow(data[\"images\"][index], cmap=plt.cm.Greys)\n",
    "plt.colorbar()\n",
    "_ = plt.axis(\"off\")"
   ]
  },
  {
   "cell_type": "markdown",
   "metadata": {},
   "source": [
    "__2.__ Одним из способов обработки изображений, например для выделения наиболее важных сегментов используется метод неотрицательной матричной факторизации ([Nonnegative matrix factorization](https://arxiv.org/pdf/1401.5226.pdf)). \n",
    "Идея в том, чтобы решить следующую задачу\n",
    "\n",
    "\\begin{align*}\n",
    "& \\min_{W, H} \\frac12 \\|X - WH\\|^2_F \\\\\n",
    "\\text{s.t. } & W \\geq 0\\\\\n",
    "& H \\geq 0,\n",
    "\\end{align*}\n",
    "\n",
    "где знак $\\geq$ означает покомпонентное сравнение. \n",
    "Также матрицы $W$ и $H$ малого ранга, то есть $W \\in \\mathbb{R}^{m \\times k}$ и $H \\in \\mathbb{R}^{k \\times n}$, где $k$ - параметр, который необходимо настраивать.\n",
    "Чем больше $k$, тем точнее приближение, но и тем дольше будет решаться задача.\n",
    "Матрица $X \\in \\mathbb{R}^{m \\times n}$, где $m$ - это число фото в нашем наборе, а $n$ - это количество пикселей в каждой картинке, то есть каждая строка матрицы $X$ - это векторизованная картинка.\n",
    "\n",
    "**Вопросы**\n",
    "\n",
    "1) является ли эта задача выпуклой и почему?\n",
    "\n",
    "2) как можно интерпретировать факторы $W$ и $H$ и почему важна их покомпонентная неотрицательность?"
   ]
  },
  {
   "cell_type": "code",
   "execution_count": null,
   "metadata": {},
   "outputs": [],
   "source": [
    "# Место для Вашего решения"
   ]
  },
  {
   "cell_type": "markdown",
   "metadata": {},
   "source": [
    "__3.__ Такую задачу можно решать с помощью CVXPy, если воспользоваться идеей попеременной оптимизации (alternating optimization). Идея состоит в том, чтобы на чётных итерациях решить точно задачу относительно параметра $W$ при фиксированном параметре $H$, а на нечётных наоборот: использовать решение для $W$ с предыдущей итерации в качестве фиксированного параметра и найти решение задачи относительной $H$ и так далее до сходимости.\n",
    "Сначала Вам нужно инициализировать матрицы $W$ и $H$ какими-нибудь матрицами с неотрицательными элементами. От инициализации будет сильно зависеть качество решения и скорость работы методов.\n",
    "\n",
    "**Задачи**\n",
    "\n",
    "1) реализуйте с помощью CVXPy идею попеременной оптимизации для этой задачи и решите её\n",
    "\n",
    "2) нарисуйте график сходимости по функции и убедитесь, что метод сошёлся или же изменение целевой функции пренебрежимо мало\n",
    "\n",
    "3) поскольку размерность $H$ - $k \\times n$, то каждую строку $H$ можно преобразовать в картинку аналогично тому, как были собраны строки матрицы $X$. Нарисуйте 10-50 картинок полученных из строк матрицы $H$. Что Вы заметили и как это соотносится с ответами на вопрос 2) предыдущего пункта? Используйте ```plt.colorbar()``` и цветовую схему ```plt.cm.Greys``` для более чёткого отображения значений пикселей\n",
    "\n",
    "4) Нарисуйте матрицу $W$ с помощью функции ```plt.imshow``` или ```plt.spy```. Насколько сильно она заполнена и почему?"
   ]
  },
  {
   "cell_type": "code",
   "execution_count": null,
   "metadata": {},
   "outputs": [],
   "source": [
    "# Место для Вашего решения"
   ]
  }
 ],
 "metadata": {
  "kernelspec": {
   "display_name": "Python 3",
   "language": "python",
   "name": "python3"
  },
  "language_info": {
   "codemirror_mode": {
    "name": "ipython",
    "version": 3
   },
   "file_extension": ".py",
   "mimetype": "text/x-python",
   "name": "python",
   "nbconvert_exporter": "python",
   "pygments_lexer": "ipython3",
   "version": "3.6.4"
  }
 },
 "nbformat": 4,
 "nbformat_minor": 2
}
