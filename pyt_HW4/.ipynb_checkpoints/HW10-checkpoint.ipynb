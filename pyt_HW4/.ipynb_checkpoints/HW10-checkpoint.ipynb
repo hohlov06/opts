{
 "cells": [
  {
   "cell_type": "markdown",
   "metadata": {},
   "source": [
    "# Домашнее задание\n",
    "\n",
    "(прислать до 02:00 20.05.2019)\n",
    "\n",
    "Домашнее задание выполняется в этом же Jupyter Notebook'e и присылается мне в Piazza через Private Post.\n",
    "Файл с Вашим решением должен называться ```Surname_HW#```, где вместо ```Surname``` Вы пишите свою фамилию латиницей, а вместо ```#``` - номер домашнего задания. \n",
    "Решение каждой задачи необходимо поместить после её условия.\n",
    "\n",
    "Пожалуйста, пишите свои решения чётко и понятно. \n",
    "При полном запуске Вашего решения (Kernel -> Restart & Run All) все ячейки должны выполняться без ошибок. "
   ]
  },
  {
   "cell_type": "markdown",
   "metadata": {},
   "source": [
    "## Задача 1\n",
    "\n",
    "Пусть $\\varphi: \\mathbb{R} \\to \\mathbb{R}$ возрастающая и выпуклая функция. Также $f: \\mathbb{R}^n \\to \\mathbb{R}$ выпуклая, следовательно $g(x) = \\varphi(f(x))$ также выпуклая функция. Также пусть $f$ и $g$ дважды диференцируемы.\n",
    "\n",
    "- (0.4 pts) Как связаны между собой задачи минимизации $f$ и $g$?\n",
    "- (0.6 pts) Сравните градиентный метод и метод Ньютона для решения задач минимизации $f$ и $g$. Как связаны направления, получаемые каждым из методов? Как связаны методы в случае использования наискорейшего спуска для выбора шага?"
   ]
  },
  {
   "cell_type": "markdown",
   "metadata": {
    "collapsed": true
   },
   "source": [
    "- Связь задач минимизации\n",
    "\n",
    "$\\nabla g(x) = \\nabla \\phi ( f (x)) = \\phi'(y) \\nabla f(x)$\n",
    "\n",
    "$\\nabla^2 g(x) = \\nabla^2 \\phi ( f (x)) = \\phi''(y) \\nabla f(x)\\otimes (\\nabla f)^T + \\phi'(y) \\nabla^2 f(x)$\n",
    "\n",
    "$\\phi$ - возрастающая $\\Rightarrow \\phi'(y) > 0$\n",
    "\n",
    "$f$ и $g$ - дважды дифференциируемы и выпуклы, значит:$\\nabla f(x^*) = 0 \\Leftrightarrow x^*$ - минимум или максимум.\n",
    "\n",
    "В минимуме(максимуме) $f$:\n",
    "\n",
    "$\\nabla g(x) = 0$ \n",
    "\n",
    "$\\nabla^2 g(x) = \\phi'(y) \\nabla^2 f(x)$ - вторая производная $f$ имеет ту же знакоопределенность, что и $g$\n",
    "\n",
    "Значит, минимумы(максимумы) функции $f$ являются минимумами(максимумами) функции $g$. \n",
    "\n",
    "Верно и обратное, т.к. из $\\nabla g(x) = 0$, $\\phi'(y) > 0$ следует, что $\\nabla f(x) = 0$, и знакоопределенности вторых производных совпадают тоже.\n",
    "\n",
    "Связь задач: $x^*$ - минимум(максимум) функции $f$ $\\Leftrightarrow$ $x^*$ - минимум(максимум) функции $g$\n",
    "\n",
    "- Сравнение методов\n",
    "\n",
    "Направления в градиентном спуске:\n",
    "\n",
    "$h_f = -\\nabla f$\n",
    "\n",
    "$h_g = -\\nabla g = -\\phi'\\nabla f$\n",
    "\n",
    "Направления в Ньютоновском методе:\n",
    "\n",
    "$\\tilde{h}_f = - (\\nabla^2 f)^{-1} \\nabla f = (\\nabla^2 f)^{-1}h_f$\n",
    "\n",
    "$\\tilde{h}_g = - (\\nabla^2 g)^{-1} \\nabla g = -\\Big(\\phi''(y) \\nabla f(x)\\otimes (\\nabla f)^T + \\phi'(y) \\nabla^2 f(x)\\Big)^{-1}  \\phi'(y) \\nabla f(x) = (\\nabla^2 g)^{-1} h_g = \\Big(\\phi''(y) h_f\\nabla \\otimes (h_f)^T - \\phi'(y) \\nabla h_f\\Big)^{-1}  h_g $\n",
    "\n",
    "Наискорейший спуск:\n",
    "\n",
    "Для $f$: $\\lambda_j = \\text{argmin}_{\\lambda} f(x_j - \\lambda h_{f,j})$\n"
   ]
  },
  {
   "cell_type": "markdown",
   "metadata": {},
   "source": [
    "## Задача 2\n",
    "\n",
    "- (0.4 pts) Для задачи\n",
    "\n",
    "$$\n",
    "\\log (e^x + e^{-x}) \\to \\min\n",
    "$$\n",
    "\n",
    "запустите метод Ньютона с постоянным шагом $\\alpha = 1$ из точки $x_0 = 1$ и $x_0 = 1.1$. Что Вы заметили и почему?\n",
    "- (0.4 pts) Что произойдёт, если использовать демпфированный метод Ньютона? Почему?\n",
    "- (0.2 pts) Постройте графики сходимости для каждой постановки эксперимента и оцените время работы каждого метода.\n",
    "При сравнении сходимости для разных условий стройте линии на одном графике и добавляйте легенду, иначе очень сложно понять, что происходит.\n",
    "Также для сравнения сходимости достаточно указывать изменение нормы градиента, чтобы не загромождать рисунок."
   ]
  },
  {
   "cell_type": "code",
   "execution_count": 2,
   "metadata": {},
   "outputs": [],
   "source": [
    "import numpy as np\n",
    "import matplotlib.pyplot as plt"
   ]
  },
  {
   "cell_type": "code",
   "execution_count": 2,
   "metadata": {},
   "outputs": [],
   "source": [
    "def Newton(f, gradf, hessf, x0, epsilon, num_iter, line_search, \n",
    "                    disp=False, callback=None, **kwargs):\n",
    "    x = x0.copy()\n",
    "    iteration = 0\n",
    "    opt_arg = {\"f\": f, \"grad_f\": gradf}\n",
    "    for key in kwargs:\n",
    "        opt_arg[key] = kwargs[key]\n",
    "    while True:\n",
    "        opt_arg[\"iteration\"] = iteration\n",
    "        gradient = gradf(x)\n",
    "        hess = hessf(x)\n",
    "        #h = np.linalg.solve(hess, -gradient)\n",
    "        h = -gradient / hess # так, наверное, лучше не делать \n",
    "        alpha = line_search(x, h, **opt_arg)\n",
    "        x = x + alpha * h\n",
    "        if callback is not None:\n",
    "            callback(x)\n",
    "        iteration += 1\n",
    "        if disp:\n",
    "            print(\"Current function val =\", f(x))\n",
    "            print(\"Current gradient norm = \", np.linalg.norm(gradf(x)))\n",
    "        if np.linalg.norm(gradf(x)) < epsilon:\n",
    "            break\n",
    "        if iteration >= num_iter:\n",
    "            break\n",
    "    res = {\"x\": x, \"num_iter\": iteration, \"tol\": np.linalg.norm(gradf(x))}\n",
    "    return res"
   ]
  },
  {
   "cell_type": "code",
   "execution_count": 4,
   "metadata": {
    "scrolled": true
   },
   "outputs": [
    {
     "name": "stdout",
     "output_type": "stream",
     "text": [
      "Current function val = [0.99286901]\n",
      "Current gradient norm =  0.6714781841373958\n",
      "Current function val = [0.7747108]\n",
      "Current gradient norm =  0.38796507601847524\n",
      "Current function val = [0.69426564]\n",
      "Current gradient norm =  0.047269662404905495\n",
      "Current function val = [0.69314718]\n",
      "Current gradient norm =  7.060280352733244e-05\n",
      "Current function val = [0.69314718]\n",
      "Current gradient norm =  2.347011474057581e-13\n"
     ]
    }
   ],
   "source": [
    "def linesearch_(x, *args, **kwargs):\n",
    "    return 1\n",
    "\n",
    "f = lambda x: np.log(np.exp(x) + np.exp(-x))\n",
    "grad_f = lambda x: (np.exp(x) - np.exp(-x))/(np.exp(x) + np.exp(-x))\n",
    "hess_f = lambda x: 4/((np.exp(x) + np.exp(-x))**2)\n",
    "x01 = np.ones(1)\n",
    "x02 = x01 + 0.1\n",
    "\n",
    "def callback_(x, hist_1, hist_2, hist_3):\n",
    "    hist_1.append(x)\n",
    "    hist_2.append(f(x))\n",
    "    hist_3.append(grad_f(x))\n",
    "    \n",
    "\n",
    "x_history = []\n",
    "f_history = []\n",
    "grad_f_history = []\n",
    "\n",
    "callback = lambda x: callback_(x, x_history, f_history, grad_f_history)\n",
    "\n",
    "#x1 = Newton(f, grad_f, hess_f, x01, 1e-6, 100, linesearch_, disp = False, callback=callback)\n",
    "x1 = Newton(f, grad_f, hess_f, x01, 1e-6, 100, linesearch_, disp = True, callback=callback)\n",
    "\n",
    "x1_history = x_history\n",
    "f1_history = f_history\n",
    "grad_f1_history = grad_f_history"
   ]
  },
  {
   "cell_type": "code",
   "execution_count": 5,
   "metadata": {},
   "outputs": [
    {
     "name": "stdout",
     "output_type": "stream",
     "text": [
      "Current function val = [1.22808384]\n",
      "Current gradient norm =  0.8105233058074695\n",
      "Current function val = [1.31546406]\n",
      "Current gradient norm =  0.8437734391666142\n",
      "Current function val = [1.72830815]\n",
      "Current gradient norm =  0.9348020302000571\n",
      "Current function val = [5.71537096]\n",
      "Current gradient norm =  0.9999782866629786\n",
      "Current function val = [inf]\n",
      "Current gradient norm =  nan\n",
      "Current function val = [nan]\n",
      "Current gradient norm =  nan\n",
      "Current function val = [nan]\n",
      "Current gradient norm =  nan\n",
      "Current function val = [nan]\n",
      "Current gradient norm =  nan\n",
      "Current function val = [nan]\n",
      "Current gradient norm =  nan\n",
      "Current function val = [nan]\n",
      "Current gradient norm =  nan\n"
     ]
    },
    {
     "name": "stderr",
     "output_type": "stream",
     "text": [
      "c:\\dev\\python372\\lib\\site-packages\\ipykernel_launcher.py:4: RuntimeWarning: overflow encountered in exp\n",
      "  after removing the cwd from sys.path.\n",
      "c:\\dev\\python372\\lib\\site-packages\\ipykernel_launcher.py:5: RuntimeWarning: overflow encountered in exp\n",
      "  \"\"\"\n",
      "c:\\dev\\python372\\lib\\site-packages\\ipykernel_launcher.py:5: RuntimeWarning: invalid value encountered in true_divide\n",
      "  \"\"\"\n",
      "c:\\dev\\python372\\lib\\site-packages\\ipykernel_launcher.py:6: RuntimeWarning: overflow encountered in exp\n",
      "  \n"
     ]
    }
   ],
   "source": [
    "x_history = []\n",
    "f_history = []\n",
    "grad_f_history = []\n",
    "\n",
    "#x2 = Newton(f, grad_f, hess_f, x02, 1e-6, 10, linesearch_, disp = False, callback=callback)\n",
    "x2 = Newton(f, grad_f, hess_f, x02, 1e-6, 10, linesearch_, disp = True, callback=callback)\n",
    "\n",
    "x2_history = x_history\n",
    "f2_history = f_history\n",
    "grad_f2_history = grad_f_history"
   ]
  },
  {
   "cell_type": "markdown",
   "metadata": {},
   "source": [
    "Как видно ниже, метод сходится достаточно быстро для $x=1$ и не сходится для $x=1.1$\n",
    "\n",
    "Объяснение, почему не сходится:"
   ]
  },
  {
   "cell_type": "code",
   "execution_count": 6,
   "metadata": {},
   "outputs": [
    {
     "data": {
      "text/plain": [
       "[array([-0.8134302]),\n",
       " array([0.40940232]),\n",
       " array([-0.04730492]),\n",
       " array([7.06028036e-05]),\n",
       " array([-2.34706609e-13])]"
      ]
     },
     "execution_count": 6,
     "metadata": {},
     "output_type": "execute_result"
    }
   ],
   "source": [
    "x1_history"
   ]
  },
  {
   "cell_type": "code",
   "execution_count": 7,
   "metadata": {},
   "outputs": [
    {
     "data": {
      "text/plain": [
       "[array([-1.12855259]),\n",
       " array([1.23413113]),\n",
       " array([-1.69516598]),\n",
       " array([5.7153601]),\n",
       " array([-23021.35648573]),\n",
       " array([nan]),\n",
       " array([nan]),\n",
       " array([nan]),\n",
       " array([nan]),\n",
       " array([nan])]"
      ]
     },
     "execution_count": 7,
     "metadata": {},
     "output_type": "execute_result"
    }
   ],
   "source": [
    "x2_history"
   ]
  },
  {
   "cell_type": "markdown",
   "metadata": {},
   "source": [
    "Использован шаг $\\alpha = \\dfrac{1}{\\sqrt{n+1}}$\n",
    "\n",
    "Объяснение, почему сходится:"
   ]
  },
  {
   "cell_type": "code",
   "execution_count": 27,
   "metadata": {},
   "outputs": [
    {
     "data": {
      "text/plain": [
       "[array([-1.12855259]),\n",
       " array([0.54211709]),\n",
       " array([0.16409503]),\n",
       " array([0.08056669]),\n",
       " array([0.04438005]),\n",
       " array([0.02623817]),\n",
       " array([0.01631652]),\n",
       " array([0.01054674]),\n",
       " array([0.0070309]),\n",
       " array([0.00480746]),\n",
       " array([0.00335793]),\n",
       " array([0.00238857]),\n",
       " array([0.0017261]),\n",
       " array([0.00126478]),\n",
       " array([0.00093821]),\n",
       " array([0.00070366]),\n",
       " array([0.000533]),\n",
       " array([0.00040737]),\n",
       " array([0.00031391]),\n",
       " array([0.00024372])]"
      ]
     },
     "execution_count": 27,
     "metadata": {},
     "output_type": "execute_result"
    }
   ],
   "source": [
    "# демпфирование \n",
    "def linesearch_(x, *args, **kwargs):\n",
    "    return 1/np.sqrt(kwargs[\"iteration\"]+1)\n",
    "\n",
    "x_history = []\n",
    "f_history = []\n",
    "grad_f_history = []\n",
    "\n",
    "x3 = Newton(f, grad_f, hess_f, x02, 1e-6, 20, linesearch_, callback=callback)\n",
    "\n",
    "x3_history = x_history\n",
    "f3_history = f_history\n",
    "grad_f3_history = grad_f_history\n",
    "\n",
    "x3_history"
   ]
  },
  {
   "cell_type": "code",
   "execution_count": 28,
   "metadata": {
    "scrolled": false
   },
   "outputs": [
    {
     "data": {
      "image/png": "[encoded data removed]",
      "text/plain": [
       "<Figure size 432x288 with 1 Axes>"
      ]
     },
     "metadata": {
      "needs_background": "light"
     },
     "output_type": "display_data"
    },
    {
     "data": {
      "image/png": "[encoded data removed]",
      "text/plain": [
       "<Figure size 432x288 with 1 Axes>"
      ]
     },
     "metadata": {
      "needs_background": "light"
     },
     "output_type": "display_data"
    },
    {
     "data": {
      "image/png": "[encoded data removed]",
      "text/plain": [
       "<Figure size 432x288 with 1 Axes>"
      ]
     },
     "metadata": {
      "needs_background": "light"
     },
     "output_type": "display_data"
    }
   ],
   "source": [
    "x=np.arange(-2, 2, 0.05)\n",
    "plt.plot(x, f(x))\n",
    "plt.xlabel(\"x\")\n",
    "plt.ylabel(\"f(x)\")\n",
    "plt.show()\n",
    "\n",
    "plt.plot(x, grad_f(x))\n",
    "plt.xlabel(\"x\")\n",
    "plt.ylabel(\"Grad norm\")\n",
    "plt.show()\n",
    "\n",
    "plt.plot(x, hess_f(x))\n",
    "plt.xlabel(\"x\")\n",
    "plt.ylabel(\"Hessian norm\")\n",
    "plt.show()"
   ]
  },
  {
   "cell_type": "code",
   "execution_count": 29,
   "metadata": {},
   "outputs": [
    {
     "data": {
      "image/png": "[encoded data removed]",
      "text/plain": [
       "<Figure size 432x288 with 1 Axes>"
      ]
     },
     "metadata": {
      "needs_background": "light"
     },
     "output_type": "display_data"
    },
    {
     "data": {
      "image/png": "[encoded data removed]",
      "text/plain": [
       "<Figure size 432x288 with 1 Axes>"
      ]
     },
     "metadata": {
      "needs_background": "light"
     },
     "output_type": "display_data"
    },
    {
     "data": {
      "image/png": "[encoded data removed]",
      "text/plain": [
       "<Figure size 432x288 with 1 Axes>"
      ]
     },
     "metadata": {
      "needs_background": "light"
     },
     "output_type": "display_data"
    }
   ],
   "source": [
    "iter1 = np.arange(1, len(x1_history)+1, 1)\n",
    "iter2 = np.arange(1, len(x2_history)+1, 1)\n",
    "iter3 = np.arange(1, len(x3_history)+1, 1)\n",
    "\n",
    "plt.plot(iter1, x1_history)\n",
    "#plt.semilogy(iter2, x2_history)\n",
    "plt.plot(iter3, x3_history)\n",
    "plt.xlabel(\"iteration\")\n",
    "plt.ylabel(\"x\")\n",
    "plt.show()\n",
    "\n",
    "plt.plot(iter1, f1_history)\n",
    "plt.plot(iter3, f3_history)\n",
    "plt.xlabel(\"iteration\")\n",
    "plt.ylabel(\"f(x)\")\n",
    "plt.show()\n",
    "\n",
    "plt.plot(iter1, grad_f1_history)\n",
    "plt.plot(iter3, grad_f3_history)\n",
    "plt.xlabel(\"iteration\")\n",
    "plt.ylabel(\"grad(x)\")\n",
    "plt.show()"
   ]
  },
  {
   "cell_type": "code",
   "execution_count": 30,
   "metadata": {},
   "outputs": [
    {
     "data": {
      "image/png": "[encoded data removed]",
      "text/plain": [
       "<Figure size 432x288 with 1 Axes>"
      ]
     },
     "metadata": {
      "needs_background": "light"
     },
     "output_type": "display_data"
    },
    {
     "data": {
      "image/png": "[encoded data removed]",
      "text/plain": [
       "<Figure size 432x288 with 1 Axes>"
      ]
     },
     "metadata": {
      "needs_background": "light"
     },
     "output_type": "display_data"
    },
    {
     "data": {
      "image/png": "[encoded data removed]",
      "text/plain": [
       "<Figure size 432x288 with 1 Axes>"
      ]
     },
     "metadata": {
      "needs_background": "light"
     },
     "output_type": "display_data"
    }
   ],
   "source": [
    "plt.semilogy(iter1, x1_history)\n",
    "#plt.semilogy(iter2, x2_history)\n",
    "plt.semilogy(iter3, x3_history)\n",
    "plt.xlabel(\"iteration\")\n",
    "plt.ylabel(\"x\")\n",
    "plt.show()\n",
    "\n",
    "plt.semilogy(iter1, f1_history)\n",
    "plt.semilogy(iter3, f3_history)\n",
    "plt.xlabel(\"iteration\")\n",
    "plt.ylabel(\"f(x)\")\n",
    "plt.show()\n",
    "\n",
    "plt.semilogy(iter1, grad_f1_history)\n",
    "plt.semilogy(iter3, grad_f3_history)\n",
    "plt.xlabel(\"iteration\")\n",
    "plt.ylabel(\"grad(x)\")\n",
    "plt.show()"
   ]
  },
  {
   "cell_type": "markdown",
   "metadata": {},
   "source": [
    "## Задача 3\n",
    "- (0.2 pts) Покажите, что справедлива формула Шермана-Моррисона-Вудбери\n",
    "\n",
    "$$\n",
    "(A + UV)^{-1} = A^{-1} - A^{-1} U \\left( I_k + V A^{-1} U \\right)^{-1} V A^{-1},\n",
    "$$\n",
    "где $A \\in \\mathbb{R}^{n \\times n}$, $U \\in \\mathbb{R}^{n \\times k}$ и $V \\in \\mathbb{R}^{k \\times n}$.\n",
    "\n",
    "- (0.2 pts) Покажите, что преобразование DFP даёт положительно определённую оценку для гессиана $B_{k+1}$\n",
    "- (0.4 pts) Выведите (а не покажите, что формула справедлива!) формулу для $H_k$ в методе DFP\n",
    "- Реализуйте BFGS метод и сравните его сходимость с методом Ньютона \n",
    "    - (0.3) для задачи минимизации функции Розенброка из $x_0 = (-1.2, 1)$\n",
    "    - (0.5) для задачи\n",
    "\n",
    "    $$\n",
    "    \\min_x \\log \\left( \\sum_{i=1}^m \\exp(a_i^{\\top}x + b_i)\\right).\n",
    "    $$\n",
    "\n",
    "- (0.4) Попробуйте разные условия (достаточного убывания, существенного убывания, условие кривизны) для выбора шага $\\alpha_k$ (сравните минимум два условия), всегда ли выполнялось условие $s^{\\top}_k y_k > 0$?"
   ]
  },
  {
   "cell_type": "markdown",
   "metadata": {
    "collapsed": true
   },
   "source": [
    "- Формула Шермана (доказательство из википедии)\n",
    "\n",
    "$\\left(A + UCV \\right) \\left[ A^{-1} - A^{-1}U \\left(C^{-1} + VA^{-1}U \\right)^{-1} VA^{-1} \\right] = $\n",
    "\n",
    "$ = \\left\\{ I - U\\left(C^{-1} + VA^{-1}U \\right)^{-1}VA^{-1} \\right\\} + \\left\\{ UCVA^{-1} - UCVA^{-1}U \\left(C^{-1} + VA^{-1}U \\right)^{-1} VA^{-1} \\right\\} = $\n",
    "\n",
    "$ = \\left\\{ I + UCVA^{-1} \\right\\} - \\left\\{ U\\left(C^{-1} + VA^{-1}U \\right)^{-1}VA^{-1} + UCVA^{-1}U \\left(C^{-1} + VA^{-1}U \\right)^{-1} VA^{-1} \\right\\} = $\n",
    "\n",
    "$ = I + UCVA^{-1} - \\left(U + UCVA^{-1}U\\right) \\left(C^{-1} + VA^{-1}U\\right)^{-1}VA^{-1} = $\n",
    "\n",
    "$ = I + UCVA^{-1} - UC \\left(C^{-1} + VA^{-1}U\\right) \\left(C^{-1} + VA^{-1}U\\right)^{-1}VA^{-1} = $\n",
    "\n",
    "$ = I + UCVA^{-1} - UCVA^{-1} = $\n",
    "\n",
    "$ = I $\n",
    "\n",
    "В частном случае (котором нужно было доказать) $C = I_k$ \n",
    "\n",
    "- DFP дает положительно определённую оценку для гессиана $B_{k+1}$\n",
    "\n",
    "$B_{k+1} = (I - \\rho_k y_k s_k^T) B_k (I - \\rho_k s_k y_k^T) + \\rho_k y_k y_k^T$\n",
    "\n",
    "где $\\rho_k = \\dfrac{1}{y_k^T s_k}$\n",
    "\n",
    "Если $B_k$ - положительно определенная, то она задает скалярное произведение $(a,b) = a^T B_k b$ и норму $(a,a) = a^T B_k a = \\Vert a \\Vert_B^2 $\n",
    "\n",
    "$x^T B_{k+1} x =  (x^T - \\rho_k \\langle x,y_k \\rangle s_k^T) B_k (x - \\rho_k s_k \\langle x, y_k \\rangle) + \\rho_k \\langle x, y_k \\rangle^2 = \\Vert x^T - \\rho_k \\langle x,y_k \\rangle s_k^T \\Vert_B^2 + \\rho_k \\langle x, y_k \\rangle^2 $\n",
    "\n",
    "$\\Vert x^T - \\rho_k \\langle x,y_k \\rangle s_k^T \\Vert_B^2 > 0$, $\\langle x, y_k \\rangle^2 > 0$, $\\dfrac{1}{\\rho_k} = y_k^T s_k = s_k^T B s_k > 0$\n",
    "\n",
    "Значит, $x^T B_{k+1} x \\Rightarrow$ $B_{k+1}$ - положительно-определенная\n",
    "\n",
    "- Вывод формулы для $H_k$ в DFP\n",
    "\n",
    "Применим формулу Шермана, где \n",
    "$B_{k+1} = \\left(A + UV \\right) = (I - \\rho_k y_k s_k^T) B_k (I - \\rho_k s_k y_k^T) + \\rho_k y_k y_k^T =$\n",
    "\n",
    "$ = B_k - \\rho_k y_k s_k^T B_k - B_k \\rho_k s_k y_k^T + \\rho_k^2 y_k s_k^T B_k s_k y_k^T + \\rho_k y_k y_k^T = $\n",
    "\n",
    "$A = (I - \\rho_k y_k s_k^T) B_k (I - \\rho_k s_k y_k^T) $, $U = \\rho_k y_k$, $V = y_k^T$\n",
    "\n",
    "$B_{k+1}^{-1} = H_{k+1} = H_k - \\dfrac{H_k y_k y_k^T H_k}{y_k^T H_k y_k} + \\dfrac{s_k s_k^T}{y_k^T s_k}$"
   ]
  },
  {
   "cell_type": "code",
   "execution_count": null,
   "metadata": {},
   "outputs": [],
   "source": [
    "import liboptpy.unconstr_solvers as methods\n",
    "import liboptpy.step_size as ss"
   ]
  },
  {
   "cell_type": "markdown",
   "metadata": {},
   "source": [
    "- BFGS метод и сравнение с Ньютоновским для минимизации функции Розенброка"
   ]
  },
  {
   "cell_type": "code",
   "execution_count": 17,
   "metadata": {
    "scrolled": true
   },
   "outputs": [],
   "source": [
    "f = lambda x: (1-x[0])**2 + 100 * (x[1] - x[0]**2)**2\n",
    "grad_f = lambda x: np.array([2*(x[0]-1) + 400 * (x[0]**2 - x[1]) * x[0], 200 * (x[1]-x[0]**2)])\n",
    "hess_f = lambda x: np.array([2 - 400 * x[1] + 1200 * x[0]**2,-400 * x[0]],[-400 * x[0],200])\n",
    "x0 = np.array([-1.2, 1])"
   ]
  },
  {
   "cell_type": "markdown",
   "metadata": {},
   "source": [
    "- BFGS метод и сравнение с Ньютоновским для задачи..."
   ]
  },
  {
   "cell_type": "code",
   "execution_count": 144,
   "metadata": {},
   "outputs": [
    {
     "name": "stdout",
     "output_type": "stream",
     "text": [
      "[[2.03428727e-05 2.03428727e-05 3.39047878e-05]\n",
      " [2.03428727e-05 2.03428727e-05 3.39047878e-05]\n",
      " [3.39047878e-05 3.39047878e-05 5.65079797e-05]]\n"
     ]
    }
   ],
   "source": [
    "a= np.array([[1,2,1], [4,5,6]])\n",
    "\n",
    "b = np.array([10,10])\n",
    "\n",
    "x = np.array([0,1,2])\n",
    "\n",
    "#print(sum_exp(x,a,b))\n",
    "\n",
    "#print(np.exp(a[0].T @ x + b[0]))\n",
    "#print(np.exp(a[1].T @ x + b[1]))\n",
    "\n",
    "#print(f(x,a,b))\n",
    "\n",
    "#np.log(178482300)\n",
    "\n",
    "print(hess_f(x,a,b))\n",
    "\n",
    "#print(sum_exp(x, a, b))\n",
    "\n",
    "#print(a[0].dot(np.transpose(a[0])))\n",
    "\n",
    "#print(np.dot(a[0].reshape(a.shape[1],1) , a[0].reshape(1,a.shape[1])))"
   ]
  },
  {
   "cell_type": "code",
   "execution_count": 143,
   "metadata": {},
   "outputs": [],
   "source": [
    "#define a, b, x0\n",
    "\n",
    "def exp_arg(x, a, b):\n",
    "    return np.exp(a.T @ x + b)\n",
    "    \n",
    "def sum_exp(x, a=a, b=b):\n",
    "    ret = 0\n",
    "    for i in range(a.shape[0]):\n",
    "        ret = ret + exp_arg(x,a[i],b[i])\n",
    "    return ret\n",
    "\n",
    "def f(x, a=a, b=b):\n",
    "    x = np.array(x)\n",
    "    x = x.reshape((x.size, 1))\n",
    "    return np.log(sum_exp(x,a,b))\n",
    "\n",
    "def grad_f(x, a=a, b=b):\n",
    "    x = np.array(x)\n",
    "    x = x.reshape((x.size, 1))\n",
    "    ret = np.zeros(x.size)\n",
    "    for i in range(a.shape[0]):\n",
    "        ret = ret + (exp_arg(x,a[i],b[i]) * a[i])\n",
    "    return ret / sum_exp(x,a,b)\n",
    "\n",
    "def hess_f(x, a=a, b=b):\n",
    "    x = np.array(x)\n",
    "    x = x.reshape((x.size, 1))\n",
    "    ret = np.zeros((x.size, x.size))\n",
    "    for i in range(a.shape[0]):\n",
    "        ret = ret + exp_arg(x,a[i],b[i]) * np.dot(a[i].reshape(a.shape[1],1) , a[i].reshape(1,a.shape[1]))\n",
    "    grad_tmp = grad_f(x,a,b)\n",
    "    return ret / sum_exp(x,a,b) - np.dot(grad_tmp.reshape(a.shape[1],1) , grad_tmp.reshape(1,a.shape[1]))\n",
    "        "
   ]
  },
  {
   "cell_type": "markdown",
   "metadata": {},
   "source": [
    "$\\min_x \\log \\left( \\sum_{i=1}^m \\exp(a_i^{\\top}x + b_i)\\right)$"
   ]
  },
  {
   "cell_type": "markdown",
   "metadata": {},
   "source": [
    "- Разные условия"
   ]
  },
  {
   "cell_type": "code",
   "execution_count": null,
   "metadata": {},
   "outputs": [],
   "source": []
  },
  {
   "cell_type": "markdown",
   "metadata": {},
   "source": [
    "## Задача 4 (1 pts)\n",
    "\n",
    "Предложите свой квазиньютоновский метод, реализуйте его и сравните скорость его сходимости (по времени и по итерациям) с методом Ньютона и с методом BFGS, который Вы реализовали в задаче 3. Для сравнения используйте задачу \n",
    "\n",
    "$$\n",
    "    \\min_x \\log \\left( \\sum_{i=1}^m \\exp(a_i^{\\top}x + b_i)\\right).\n",
    "$$\n",
    "\n",
    "Обоснуйте (хотя бы в общих чертах), почему Ваш метод будет работать. \n",
    "Строгого доказательства я не требую, но мотивацию, которой Вы руководствовались, пожалуйста, приведите. "
   ]
  },
  {
   "cell_type": "code",
   "execution_count": null,
   "metadata": {},
   "outputs": [],
   "source": [
    "# Место для Вашего решения"
   ]
  }
 ],
 "metadata": {
  "anaconda-cloud": {},
  "kernelspec": {
   "display_name": "Python 3",
   "language": "python",
   "name": "python3"
  },
  "language_info": {
   "codemirror_mode": {
    "name": "ipython",
    "version": 3
   },
   "file_extension": ".py",
   "mimetype": "text/x-python",
   "name": "python",
   "nbconvert_exporter": "python",
   "pygments_lexer": "ipython3",
   "version": "3.7.2"
  }
 },
 "nbformat": 4,
 "nbformat_minor": 1
}
