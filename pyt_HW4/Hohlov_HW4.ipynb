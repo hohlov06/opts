{
 "cells": [
  {
   "cell_type": "markdown",
   "metadata": {},
   "source": [
    "# Домашнее задание\n",
    "\n",
    "(прислать до 02:00 20.05.2019)\n",
    "\n",
    "Домашнее задание выполняется в этом же Jupyter Notebook'e и присылается мне в Piazza через Private Post.\n",
    "Файл с Вашим решением должен называться ```Surname_HW#```, где вместо ```Surname``` Вы пишите свою фамилию латиницей, а вместо ```#``` - номер домашнего задания. \n",
    "Решение каждой задачи необходимо поместить после её условия.\n",
    "\n",
    "Пожалуйста, пишите свои решения чётко и понятно. \n",
    "При полном запуске Вашего решения (Kernel -> Restart & Run All) все ячейки должны выполняться без ошибок. "
   ]
  },
  {
   "cell_type": "markdown",
   "metadata": {},
   "source": [
    "## Задача 1\n",
    "\n",
    "Пусть $\\varphi: \\mathbb{R} \\to \\mathbb{R}$ возрастающая и выпуклая функция. Также $f: \\mathbb{R}^n \\to \\mathbb{R}$ выпуклая, следовательно $g(x) = \\varphi(f(x))$ также выпуклая функция. Также пусть $f$ и $g$ дважды диференцируемы.\n",
    "\n",
    "- (0.4 pts) Как связаны между собой задачи минимизации $f$ и $g$?\n",
    "- (0.6 pts) Сравните градиентный метод и метод Ньютона для решения задач минимизации $f$ и $g$. Как связаны направления, получаемые каждым из методов? Как связаны методы в случае использования наискорейшего спуска для выбора шага?"
   ]
  },
  {
   "cell_type": "markdown",
   "metadata": {
    "collapsed": true
   },
   "source": [
    "- Связь задач минимизации\n",
    "\n",
    "$\\nabla g(x) = \\nabla \\phi ( f (x)) = \\phi'(y) \\nabla f(x)$\n",
    "\n",
    "$\\nabla^2 g(x) = \\nabla^2 \\phi ( f (x)) = \\phi''(y) \\nabla f(x)\\otimes (\\nabla f)^T + \\phi'(y) \\nabla^2 f(x)$\n",
    "\n",
    "$\\phi$ - возрастающая $\\Rightarrow \\phi'(y) > 0$\n",
    "\n",
    "$f$ и $g$ - дважды дифференциируемы и выпуклы, значит:$\\nabla f(x^*) = 0 \\Leftrightarrow x^*$ - минимум или максимум.\n",
    "\n",
    "В минимуме(максимуме) $f$:\n",
    "\n",
    "$\\nabla g(x) = 0$ \n",
    "\n",
    "$\\nabla^2 g(x) = \\phi'(y) \\nabla^2 f(x)$ - вторая производная $f$ имеет ту же знакоопределенность, что и $g$\n",
    "\n",
    "Значит, минимумы(максимумы) функции $f$ являются минимумами(максимумами) функции $g$. \n",
    "\n",
    "Верно и обратное, т.к. из $\\nabla g(x) = 0$, $\\phi'(y) > 0$ следует, что $\\nabla f(x) = 0$, и знакоопределенности вторых производных совпадают тоже.\n",
    "\n",
    "Связь задач: $x^*$ - минимум(максимум) функции $f$ $\\Leftrightarrow$ $x^*$ - минимум(максимум) функции $g$\n",
    "\n",
    "- Сравнение методов\n",
    "\n",
    "Направления в градиентном спуске:\n",
    "\n",
    "$h_f = -\\nabla f$\n",
    "\n",
    "$h_g = -\\nabla g = -\\phi'\\nabla f$\n",
    "\n",
    "Направления в Ньютоновском методе:\n",
    "\n",
    "$\\tilde{h}_f = - (\\nabla^2 f)^{-1} \\nabla f = (\\nabla^2 f)^{-1}h_f$\n",
    "\n",
    "$\\tilde{h}_g = - (\\nabla^2 g)^{-1} \\nabla g = -\\Big(\\phi''(y) \\nabla f(x)\\otimes (\\nabla f)^T + \\phi'(y) \\nabla^2 f(x)\\Big)^{-1}  \\phi'(y) \\nabla f(x) = (\\nabla^2 g)^{-1} h_g = \\Big(\\phi''(y) h_f\\nabla \\otimes (h_f)^T - \\phi'(y) \\nabla h_f\\Big)^{-1}  h_g $\n",
    "\n",
    "Наискорейший спуск:\n",
    "\n",
    "Для $f$: $\\lambda_j = \\text{argmin}_{\\lambda} f(x_j - \\lambda h_{f,j})$\n",
    "\n",
    "В случая градиентного спуска направления совпадают, в случае метода Ньютона - нет.\n"
   ]
  },
  {
   "cell_type": "markdown",
   "metadata": {},
   "source": [
    "## Задача 2\n",
    "\n",
    "- (0.4 pts) Для задачи\n",
    "\n",
    "$$\n",
    "\\log (e^x + e^{-x}) \\to \\min\n",
    "$$\n",
    "\n",
    "запустите метод Ньютона с постоянным шагом $\\alpha = 1$ из точки $x_0 = 1$ и $x_0 = 1.1$. Что Вы заметили и почему?\n",
    "- (0.4 pts) Что произойдёт, если использовать демпфированный метод Ньютона? Почему?\n",
    "- (0.2 pts) Постройте графики сходимости для каждой постановки эксперимента и оцените время работы каждого метода.\n",
    "При сравнении сходимости для разных условий стройте линии на одном графике и добавляйте легенду, иначе очень сложно понять, что происходит.\n",
    "Также для сравнения сходимости достаточно указывать изменение нормы градиента, чтобы не загромождать рисунок."
   ]
  },
  {
   "cell_type": "code",
   "execution_count": 1,
   "metadata": {},
   "outputs": [],
   "source": [
    "import numpy as np\n",
    "import matplotlib.pyplot as plt\n",
    "import time"
   ]
  },
  {
   "cell_type": "code",
   "execution_count": 2,
   "metadata": {},
   "outputs": [],
   "source": [
    "import time"
   ]
  },
  {
   "cell_type": "code",
   "execution_count": 3,
   "metadata": {},
   "outputs": [],
   "source": [
    "def Newton1D(f, gradf, hessf, x0, epsilon, num_iter, line_search, \n",
    "                    disp=False, callback=None, **kwargs):\n",
    "    start = time.time()\n",
    "    x = x0.copy()\n",
    "    iteration = 0\n",
    "    opt_arg = {\"f\": f, \"grad_f\": gradf}\n",
    "    for key in kwargs:\n",
    "        opt_arg[key] = kwargs[key]\n",
    "    while True:\n",
    "        opt_arg[\"iteration\"] = iteration\n",
    "        gradient = gradf(x)\n",
    "        hess = hessf(x)\n",
    "        #h = np.linalg.solve(hess, -gradient)\n",
    "        h = -gradient / hess # так, наверное, лучше не делать \n",
    "        alpha = line_search(x, h, **opt_arg)\n",
    "        x = x + alpha * h\n",
    "        if callback is not None:\n",
    "            callback(x)\n",
    "        iteration += 1\n",
    "        if disp:\n",
    "            print(\"Current function val =\", f(x))\n",
    "            print(\"Current gradient norm = \", np.linalg.norm(gradf(x)))\n",
    "        if np.linalg.norm(gradf(x)) < epsilon:\n",
    "            break\n",
    "        if iteration >= num_iter:\n",
    "            break\n",
    "    res = {\"x\": x, \"num_iter\": iteration, \"tol\": np.linalg.norm(gradf(x))}\n",
    "    end = time.time()\n",
    "    print(\"Estimated time: \", (end - start))\n",
    "    return res"
   ]
  },
  {
   "cell_type": "code",
   "execution_count": 4,
   "metadata": {},
   "outputs": [],
   "source": [
    "def linesearch_(x, *args, **kwargs):\n",
    "    return 1\n",
    "\n",
    "def sqrt_iter_stepsize(x, *args, **kwargs):\n",
    "    return 1/np.sqrt(kwargs[\"iteration\"]+1)\n",
    "\n",
    "#переделка функций из liboptpy.step_size.py\n",
    "\n",
    "def armijo_stepsize(x, h, *args, **kwargs):\n",
    "    alpha = kwargs[\"alpha\"]\n",
    "    rho = kwargs[\"rho\"]\n",
    "    beta = kwargs[\"beta\"]\n",
    "    assert beta < 0.5, \"Armijo rule is applicable for beta less than 0.5\"\n",
    "    assert rho < 1, \"Decay factor has to be less than 1\"\n",
    "    f = kwargs[\"f\"]\n",
    "    grad_f = kwargs[\"grad_f\"]\n",
    "    current_grad = grad_f(x)\n",
    "    current_f = f(x)\n",
    "    x_next = x + alpha * h\n",
    "    while True:\n",
    "        if np.isnan(f(x_next)):\n",
    "            alpha *= rho\n",
    "        else:\n",
    "            if f(x_next) >= current_f + beta * current_grad.dot(x_next - x):\n",
    "                alpha *= rho\n",
    "            else:\n",
    "                break\n",
    "        if alpha < 1e-16:\n",
    "            break\n",
    "        x_next = x + alpha * h\n",
    "    return alpha\n",
    "        \n",
    "def wolfe_stepsize(x, h, *args, **kwargs):\n",
    "    alpha = kwargs[\"alpha\"]\n",
    "    rho = kwargs[\"rho\"]\n",
    "    assert rho < 1, \"Decay factor has to be less than 1\"\n",
    "    beta1 = kwargs[\"beta1\"]\n",
    "    beta2 = kwargs[\"beta2\"]\n",
    "    assert 0 < beta1 < beta2 < 1, \"Wolfe rule is applicable for betas such that 0 < beta1 < beta2 < 1\"\n",
    "    grad_f = kwargs[\"grad_f\"]\n",
    "    f = kwargs[\"f\"]\n",
    "    current_grad = grad_f(x)\n",
    "    current_f = f(x)\n",
    "    while True: \n",
    "        if np.isnan(f(x + alpha * h)):\n",
    "            alpha *= rho\n",
    "        else:\n",
    "            if f(x + alpha * h) > current_f + beta1 * alpha * current_grad.dot(h):\n",
    "                alpha *= rho\n",
    "            elif h.dot(grad_f(x + alpha * h)) < beta2 * h.dot(current_grad):\n",
    "                alpha *= rho\n",
    "            else:\n",
    "                break\n",
    "        if alpha < 1e-10:\n",
    "            break\n",
    "    return alpha\n",
    "        \n",
    "#def get_stepsize(self, h, x, num_iter, *args):        \n",
    "#    alpha = self.par[\"init_alpha\"]\n",
    "#        elif self.rule == \"Goldstein\":\n",
    "#            pass\n",
    " \n",
    "    \n",
    "def wolfe_strong_stepsize(x, h, *args, **kwargs):\n",
    "    alpha = kwargs[\"alpha\"]\n",
    "    rho = kwargs[\"rho\"]\n",
    "    assert rho < 1, \"Decay factor has to be less than 1\"\n",
    "    beta1 = kwargs[\"beta1\"]\n",
    "    beta2 = kwargs[\"beta2\"]\n",
    "    assert 0 < beta1 < beta2 < 1, \"Wolfe rule is applicable for betas such that 0 < beta1 < beta2 < 1\"\n",
    "    grad_f = kwargs[\"grad_f\"]\n",
    "    f = kwargs[\"f\"]\n",
    "    current_grad = grad_f(x)\n",
    "    current_f = f(x)\n",
    "    while True: \n",
    "        if np.isnan(f(x + alpha * h)):\n",
    "            alpha *= rho\n",
    "        else:\n",
    "            if f(x + alpha * h) > current_f + beta1 * alpha * current_grad.dot(h):\n",
    "                alpha *= rho\n",
    "            elif np.abs(h.dot(grad_f(x + alpha * h))) > beta2 * np.abs(h.dot(current_grad)):\n",
    "                alpha *= rho\n",
    "            else:\n",
    "                break\n",
    "        if alpha < 1e-10:\n",
    "            break\n",
    "    return alpha"
   ]
  },
  {
   "cell_type": "code",
   "execution_count": 5,
   "metadata": {
    "scrolled": true
   },
   "outputs": [],
   "source": [
    "def callback_(x, hist_1, hist_2, hist_3):\n",
    "    hist_1.append(x)\n",
    "    hist_2.append(f(x))\n",
    "    hist_3.append(np.linalg.norm(grad_f(x)))\n",
    "    return\n",
    "\n",
    "x_history = []\n",
    "f_history = []\n",
    "grad_f_history = []\n",
    "\n",
    "callback = lambda x: callback_(x, x_history, f_history, grad_f_history)"
   ]
  },
  {
   "cell_type": "code",
   "execution_count": 6,
   "metadata": {},
   "outputs": [
    {
     "name": "stdout",
     "output_type": "stream",
     "text": [
      "Estimated time:  0.0\n"
     ]
    }
   ],
   "source": [
    "f = lambda x: np.log(np.exp(x) + np.exp(-x))\n",
    "grad_f = lambda x: (np.exp(x) - np.exp(-x))/(np.exp(x) + np.exp(-x))\n",
    "hess_f = lambda x: 4/((np.exp(x) + np.exp(-x))**2)\n",
    "x01 = np.ones(1)\n",
    "x02 = x01 + 0.1\n",
    "\n",
    "x_history = []\n",
    "f_history = []\n",
    "grad_f_history = []\n",
    "\n",
    "x1 = Newton1D(f, grad_f, hess_f, x01, 1e-6, 100, linesearch_, disp = False, callback=callback)\n",
    "\n",
    "x1_history = x_history\n",
    "f1_history = f_history\n",
    "grad_f1_history = grad_f_history\n",
    "\n",
    "x_history = []\n",
    "f_history = []\n",
    "grad_f_history = []"
   ]
  },
  {
   "cell_type": "code",
   "execution_count": 7,
   "metadata": {},
   "outputs": [
    {
     "name": "stdout",
     "output_type": "stream",
     "text": [
      "Estimated time:  0.6564352512359619\n"
     ]
    },
    {
     "name": "stderr",
     "output_type": "stream",
     "text": [
      "c:\\dev\\python372\\lib\\site-packages\\ipykernel_launcher.py:1: RuntimeWarning: overflow encountered in exp\n",
      "  \"\"\"Entry point for launching an IPython kernel.\n",
      "c:\\dev\\python372\\lib\\site-packages\\ipykernel_launcher.py:2: RuntimeWarning: overflow encountered in exp\n",
      "  \n",
      "c:\\dev\\python372\\lib\\site-packages\\ipykernel_launcher.py:2: RuntimeWarning: invalid value encountered in true_divide\n",
      "  \n",
      "c:\\dev\\python372\\lib\\site-packages\\ipykernel_launcher.py:3: RuntimeWarning: overflow encountered in exp\n",
      "  This is separate from the ipykernel package so we can avoid doing imports until\n"
     ]
    }
   ],
   "source": [
    "x_history = []\n",
    "f_history = []\n",
    "grad_f_history = []\n",
    "\n",
    "x2 = Newton1D(f, grad_f, hess_f, x02, 1e-6, 10, linesearch_, disp = False, callback=callback)\n",
    "\n",
    "x2_history = x_history\n",
    "f2_history = f_history\n",
    "grad_f2_history = grad_f_history"
   ]
  },
  {
   "cell_type": "markdown",
   "metadata": {},
   "source": [
    "Как видно ниже, метод сходится достаточно быстро для $x=1$ и не сходится для $x=1.1$\n",
    "\n",
    "Не сходится, т.к. вторая производная мала."
   ]
  },
  {
   "cell_type": "code",
   "execution_count": 8,
   "metadata": {},
   "outputs": [
    {
     "data": {
      "text/plain": [
       "[array([-0.8134302]),\n",
       " array([0.40940232]),\n",
       " array([-0.04730492]),\n",
       " array([7.06028036e-05]),\n",
       " array([-2.34706609e-13])]"
      ]
     },
     "execution_count": 8,
     "metadata": {},
     "output_type": "execute_result"
    }
   ],
   "source": [
    "x1_history"
   ]
  },
  {
   "cell_type": "code",
   "execution_count": 9,
   "metadata": {},
   "outputs": [
    {
     "data": {
      "text/plain": [
       "[array([-1.12855259]),\n",
       " array([1.23413113]),\n",
       " array([-1.69516598]),\n",
       " array([5.7153601]),\n",
       " array([-23021.35648573]),\n",
       " array([nan]),\n",
       " array([nan]),\n",
       " array([nan]),\n",
       " array([nan]),\n",
       " array([nan])]"
      ]
     },
     "execution_count": 9,
     "metadata": {},
     "output_type": "execute_result"
    }
   ],
   "source": [
    "x2_history"
   ]
  },
  {
   "cell_type": "code",
   "execution_count": 10,
   "metadata": {
    "scrolled": true
   },
   "outputs": [
    {
     "name": "stdout",
     "output_type": "stream",
     "text": [
      "Estimated time:  0.0009992122650146484\n"
     ]
    }
   ],
   "source": [
    "x_history = []\n",
    "f_history = []\n",
    "grad_f_history = []\n",
    "\n",
    "x3 = Newton1D(f, grad_f, hess_f, x02, 1e-6, 10, sqrt_iter_stepsize, callback=callback)\n",
    "\n",
    "x3_history = x_history\n",
    "f3_history = f_history\n",
    "grad_f3_history = grad_f_history"
   ]
  },
  {
   "cell_type": "code",
   "execution_count": 11,
   "metadata": {},
   "outputs": [
    {
     "name": "stdout",
     "output_type": "stream",
     "text": [
      "Estimated time:  0.0\n"
     ]
    }
   ],
   "source": [
    "x_history = []\n",
    "f_history = []\n",
    "grad_f_history = []\n",
    "\n",
    "x4 = Newton1D(f, grad_f, hess_f, x02, 1e-6, 20, armijo_stepsize, callback=callback, \n",
    "              alpha=1, beta=0.1, rho=0.8, beta1=0.1, beta2=0.9)\n",
    "\n",
    "x4_history = x_history\n",
    "f4_history = f_history\n",
    "grad_f4_history = grad_f_history"
   ]
  },
  {
   "cell_type": "code",
   "execution_count": 12,
   "metadata": {},
   "outputs": [
    {
     "name": "stdout",
     "output_type": "stream",
     "text": [
      "Estimated time:  0.0010001659393310547\n"
     ]
    }
   ],
   "source": [
    "x_history = []\n",
    "f_history = []\n",
    "grad_f_history = []\n",
    "\n",
    "x5 = Newton1D(f, grad_f, hess_f, x01, 1e-6, 20, wolfe_stepsize, callback=callback, \n",
    "              alpha=1, beta=0.1, rho=0.8, beta1=0.1, beta2=0.9)\n",
    "\n",
    "x5_history = x_history\n",
    "f5_history = f_history\n",
    "grad_f5_history = grad_f_history\n"
   ]
  },
  {
   "cell_type": "code",
   "execution_count": 13,
   "metadata": {},
   "outputs": [
    {
     "data": {
      "image/png": "[encoded data removed]",
      "text/plain": [
       "<Figure size 432x288 with 1 Axes>"
      ]
     },
     "metadata": {
      "needs_background": "light"
     },
     "output_type": "display_data"
    }
   ],
   "source": [
    "iter1 = np.arange(1, len(x1_history)+1, 1)\n",
    "iter2 = np.arange(1, len(x2_history)+1, 1)\n",
    "iter3 = np.arange(1, len(x3_history)+1, 1)\n",
    "iter4 = np.arange(1, len(x4_history)+1, 1)\n",
    "iter5 = np.arange(1, len(x5_history)+1, 1)\n",
    "\n",
    "plt.semilogy(iter1, grad_f1_history, label='$x_0 = 1, step = 1$')\n",
    "plt.semilogy(iter5, grad_f5_history, label='$x_0 = 1, step$ - Wolfe rule')\n",
    "plt.semilogy(iter3, grad_f3_history, label='$x_0 = 1.1, step = \\dfrac{1}{\\sqrt{n+1}}$')\n",
    "plt.semilogy(iter4, grad_f4_history, label='$x_0 = 1.1, step$ - Armijo rule')\n",
    "plt.xlabel(\"iteration\")\n",
    "plt.ylabel(\"grad f(x)\")\n",
    "plt.title(\"Newton's method\")\n",
    "plt.legend()\n",
    "plt.show()"
   ]
  },
  {
   "cell_type": "markdown",
   "metadata": {},
   "source": [
    "## Задача 3\n",
    "- (0.2 pts) Покажите, что справедлива формула Шермана-Моррисона-Вудбери\n",
    "\n",
    "$$\n",
    "(A + UV)^{-1} = A^{-1} - A^{-1} U \\left( I_k + V A^{-1} U \\right)^{-1} V A^{-1},\n",
    "$$\n",
    "где $A \\in \\mathbb{R}^{n \\times n}$, $U \\in \\mathbb{R}^{n \\times k}$ и $V \\in \\mathbb{R}^{k \\times n}$.\n",
    "\n",
    "- (0.2 pts) Покажите, что преобразование DFP даёт положительно определённую оценку для гессиана $B_{k+1}$\n",
    "- (0.4 pts) Выведите (а не покажите, что формула справедлива!) формулу для $H_k$ в методе DFP\n",
    "- Реализуйте BFGS метод и сравните его сходимость с методом Ньютона \n",
    "    - (0.3) для задачи минимизации функции Розенброка из $x_0 = (-1.2, 1)$\n",
    "    - (0.5) для задачи\n",
    "\n",
    "    $$\n",
    "    \\min_x \\log \\left( \\sum_{i=1}^m \\exp(a_i^{\\top}x + b_i)\\right).\n",
    "    $$\n",
    "\n",
    "- (0.4) Попробуйте разные условия (достаточного убывания, существенного убывания, условие кривизны) для выбора шага $\\alpha_k$ (сравните минимум два условия), всегда ли выполнялось условие $s^{\\top}_k y_k > 0$?"
   ]
  },
  {
   "cell_type": "markdown",
   "metadata": {
    "collapsed": true
   },
   "source": [
    "- Формула Шермана (доказательство из википедии)\n",
    "\n",
    "$\\left(A + UCV \\right) \\left[ A^{-1} - A^{-1}U \\left(C^{-1} + VA^{-1}U \\right)^{-1} VA^{-1} \\right] = $\n",
    "\n",
    "$ = \\left\\{ I - U\\left(C^{-1} + VA^{-1}U \\right)^{-1}VA^{-1} \\right\\} + \\left\\{ UCVA^{-1} - UCVA^{-1}U \\left(C^{-1} + VA^{-1}U \\right)^{-1} VA^{-1} \\right\\} = $\n",
    "\n",
    "$ = \\left\\{ I + UCVA^{-1} \\right\\} - \\left\\{ U\\left(C^{-1} + VA^{-1}U \\right)^{-1}VA^{-1} + UCVA^{-1}U \\left(C^{-1} + VA^{-1}U \\right)^{-1} VA^{-1} \\right\\} = $\n",
    "\n",
    "$ = I + UCVA^{-1} - \\left(U + UCVA^{-1}U\\right) \\left(C^{-1} + VA^{-1}U\\right)^{-1}VA^{-1} = $\n",
    "\n",
    "$ = I + UCVA^{-1} - UC \\left(C^{-1} + VA^{-1}U\\right) \\left(C^{-1} + VA^{-1}U\\right)^{-1}VA^{-1} = $\n",
    "\n",
    "$ = I + UCVA^{-1} - UCVA^{-1} = $\n",
    "\n",
    "$ = I $\n",
    "\n",
    "В частном случае (котором нужно было доказать) $C = I_k$ \n",
    "\n",
    "В частности, верна формула\n",
    "\n",
    "$\\left(A + uv^T \\right) \\left[ A^{-1} - \\dfrac{A^{-1}u v^T A^{-1}}{1 + \\langle A^{-1}u, v\\rangle } \\right]$\n",
    "\n",
    "- DFP дает положительно определённую оценку для гессиана $B_{k+1}$\n",
    "\n",
    "$B_{k+1} = (I - \\rho_k y_k s_k^T) B_k (I - \\rho_k s_k y_k^T) + \\rho_k y_k y_k^T$\n",
    "\n",
    "где $\\rho_k = \\dfrac{1}{y_k^T s_k}$\n",
    "\n",
    "Если $B_k$ - положительно определенная, то она задает скалярное произведение $(a,b) = a^T B_k b$ и норму $(a,a) = a^T B_k a = \\Vert a \\Vert_B^2 $\n",
    "\n",
    "$x^T B_{k+1} x =  (x^T - \\rho_k \\langle x,y_k \\rangle s_k^T) B_k (x - \\rho_k s_k \\langle x, y_k \\rangle) + \\rho_k \\langle x, y_k \\rangle^2 = \\Vert x^T - \\rho_k \\langle x,y_k \\rangle s_k^T \\Vert_B^2 + \\rho_k \\langle x, y_k \\rangle^2 $\n",
    "\n",
    "$\\Vert x^T - \\rho_k \\langle x,y_k \\rangle s_k^T \\Vert_B^2 > 0$, $\\langle x, y_k \\rangle^2 > 0$, $\\dfrac{1}{\\rho_k} = y_k^T s_k = s_k^T B s_k > 0$\n",
    "\n",
    "Значит, $x^T B_{k+1} x \\Rightarrow$ $B_{k+1}$ - положительно-определенная\n",
    "\n",
    "- Вывод формулы для $H_k$ в DFP\n",
    "\n",
    "Применим формулу Шермана, где \n",
    "$B_{k+1} = \\left(A + u v^T \\right) = (I - \\rho_k y_k s_k^T) B_k (I - \\rho_k s_k y_k^T) + \\rho_k y_k y_k^T $\n",
    "\n",
    "$A = (I - \\rho_k y_k s_k^T) B_k (I - \\rho_k s_k y_k^T) $, $u = \\rho_k y_k$, $v^T = y_k^T$"
   ]
  },
  {
   "cell_type": "code",
   "execution_count": 14,
   "metadata": {},
   "outputs": [],
   "source": [
    "def Newton(f, gradf, hessf, x0, epsilon, num_iter, line_search, \n",
    "                    disp=False, callback=None, **kwargs):\n",
    "    start = time.time()\n",
    "    x = x0.copy()\n",
    "    iteration = 0\n",
    "    opt_arg = {\"f\": f, \"grad_f\": gradf}\n",
    "    for key in kwargs:\n",
    "        opt_arg[key] = kwargs[key]\n",
    "    while True:\n",
    "        opt_arg[\"iteration\"] = iteration\n",
    "        gradient = gradf(x)\n",
    "        hess = hessf(x)\n",
    "        h = np.linalg.solve(hess, -gradient)\n",
    "        #h = -gradient / hess # так, наверное, лучше не делать \n",
    "        alpha = line_search(x, h, **opt_arg)\n",
    "        x = x + alpha * h\n",
    "        if callback is not None:\n",
    "            callback(x)\n",
    "        iteration += 1\n",
    "        if disp:\n",
    "            print(\"Current function val =\", f(x))\n",
    "            print(\"Current gradient norm = \", np.linalg.norm(gradf(x)))\n",
    "        if np.linalg.norm(gradf(x)) < epsilon:\n",
    "            break\n",
    "        if iteration >= num_iter:\n",
    "            break\n",
    "    res = {\"x\": x, \"num_iter\": iteration, \"tol\": np.linalg.norm(gradf(x))}\n",
    "    end = time.time()\n",
    "    print(\"Estimated time: \", (end - start))\n",
    "    return res\n",
    "\n",
    "\n",
    "\n",
    "def DFP(f, gradf, x0, epsilon, num_iter, line_search, \n",
    "                    disp=False, callback=None, **kwargs):\n",
    "    start = time.time()\n",
    "    H = np.eye(x0.size)\n",
    "    x = x0.copy()\n",
    "    iteration = 0\n",
    "    opt_arg = {\"f\": f, \"grad_f\": gradf}\n",
    "    for key in kwargs:\n",
    "        opt_arg[key] = kwargs[key]\n",
    "    while True:\n",
    "        opt_arg[\"iteration\"] = iteration\n",
    "        gradient = gradf(x)\n",
    "        h = -H @ gradient\n",
    "        alpha = line_search(x, h, **opt_arg)\n",
    "        x = x + alpha * h\n",
    "        s = alpha * h\n",
    "        y = gradf(x) - gradient\n",
    "        Hy = H @ y\n",
    "        H = H - np.dot(Hy.reshape(Hy.size,1) , Hy.reshape(1,Hy.size)) / (y.T @ H @ y) \\\n",
    "        + np.dot(s.reshape(s.size,1) , s.reshape(1,s.size))/ (y.T @ s)\n",
    "        if callback is not None:\n",
    "            callback(x)\n",
    "        iteration += 1\n",
    "        if disp:\n",
    "            print(\"Current function val =\", f(x))\n",
    "            print(\"Current gradient norm = \", np.linalg.norm(gradf(x)))\n",
    "        if np.linalg.norm(gradf(x)) < epsilon:\n",
    "            break\n",
    "        if iteration >= num_iter:\n",
    "            break\n",
    "    res = {\"x\": x, \"num_iter\": iteration, \"tol\": np.linalg.norm(gradf(x))}\n",
    "    end = time.time()\n",
    "    print(\"Estimated time: \", (end - start))\n",
    "    return res\n",
    "\n",
    "\n",
    "\n",
    "def BFGS(f, gradf, x0, epsilon, num_iter, line_search, \n",
    "                    disp=False, callback=None, **kwargs):\n",
    "    start = time.time()\n",
    "    H = np.eye(x0.size)\n",
    "    x = x0.copy()\n",
    "    iteration = 0\n",
    "    opt_arg = {\"f\": f, \"grad_f\": gradf}\n",
    "    for key in kwargs:\n",
    "        opt_arg[key] = kwargs[key]\n",
    "    while True:\n",
    "        opt_arg[\"iteration\"] = iteration\n",
    "        gradient = gradf(x)\n",
    "        h = -H @ gradient\n",
    "        alpha = line_search(x, h, **opt_arg)\n",
    "        x = x + alpha * h\n",
    "        s = alpha * h\n",
    "        y = gradf(x) - gradient\n",
    "        r = 1 / (y.T @ s)\n",
    "        syT = np.eye(x.size) - r * np.dot(s.reshape(s.size,1) , y.reshape(1,y.size))\n",
    "        ssT = r*np.dot(s.reshape(s.size,1) , s.reshape(1,s.size))\n",
    "        H = syT @ H @ syT.T + ssT\n",
    "        if callback is not None:\n",
    "            callback(x)\n",
    "        iteration += 1\n",
    "        if disp:\n",
    "            print(\"Current function val =\", f(x))\n",
    "            print(\"Current gradient norm = \", np.linalg.norm(gradf(x)))\n",
    "        if np.linalg.norm(gradf(x)) < epsilon:\n",
    "            break\n",
    "        if iteration >= num_iter:\n",
    "            break\n",
    "    res = {\"x\": x, \"num_iter\": iteration, \"tol\": np.linalg.norm(gradf(x))}\n",
    "    end = time.time()\n",
    "    print(\"Estimated time: \", (end - start))\n",
    "    return res"
   ]
  },
  {
   "cell_type": "markdown",
   "metadata": {},
   "source": [
    "- BFGS метод и сравнение с Ньютоновским для минимизации функции Розенброка"
   ]
  },
  {
   "cell_type": "code",
   "execution_count": 15,
   "metadata": {
    "scrolled": true
   },
   "outputs": [
    {
     "name": "stdout",
     "output_type": "stream",
     "text": [
      "Estimated time:  0.001001596450805664\n",
      "Estimated time:  0.010004520416259766\n",
      "Estimated time:  0.0030024051666259766\n",
      "Estimated time:  0.005007266998291016\n",
      "Estimated time:  0.007005929946899414\n",
      "Estimated time:  0.013006925582885742\n",
      "Estimated time:  0.007004499435424805\n",
      "Estimated time:  0.010001659393310547\n"
     ]
    }
   ],
   "source": [
    "f = lambda x: (1-x[0])**2 + 100 * (x[1] - x[0]**2)**2\n",
    "grad_f = lambda x: np.array([2*(x[0]-1) + 400 * (x[0]**2 - x[1]) * x[0], 200 * (x[1]-x[0]**2)])\n",
    "hess_f = lambda x: np.array([[2 - 400 * x[1] + 1200 * x[0]**2,-400 * x[0]],[-400 * x[0],200]])\n",
    "x0 = np.array([-1.2, 1])\n",
    "\n",
    "num_iter = 100\n",
    "\n",
    "\n",
    "x_history = []\n",
    "f_history = []\n",
    "grad_f_history = []\n",
    "Newton(f, grad_f, hess_f, x0, 1e-6, num_iter, linesearch_, callback=callback,  \n",
    "            alpha=1, beta=0.1, rho=0.8, beta1=0.1, beta2=0.9)\n",
    "x1_newton_linesearch = x_history\n",
    "f1_newton_linesearch = f_history\n",
    "grad_f1_newton_linesearch = grad_f_history\n",
    "\n",
    "\n",
    "x_history = []\n",
    "f_history = []\n",
    "grad_f_history = []\n",
    "Newton(f, grad_f, hess_f, x0, 1e-6, num_iter, sqrt_iter_stepsize, callback=callback,  \n",
    "            alpha=1, beta=0.1, rho=0.8, beta1=0.1, beta2=0.9)\n",
    "x1_newton_sqrtiter = x_history\n",
    "f1_newton_sqrtiter = f_history\n",
    "grad_f1_newton_sqrtiter = grad_f_history\n",
    "\n",
    "\n",
    "x_history = []\n",
    "f_history = []\n",
    "grad_f_history = []\n",
    "Newton(f, grad_f, hess_f, x0, 1e-6, num_iter, armijo_stepsize, callback=callback,  \n",
    "            alpha=1, beta=0.1, rho=0.8, beta1=0.1, beta2=0.9)\n",
    "x1_newton_armijo = x_history\n",
    "f1_newton_armijo = f_history\n",
    "grad_f1_newton_armijo = grad_f_history\n",
    "\n",
    "\n",
    "x_history = []\n",
    "f_history = []\n",
    "grad_f_history = []\n",
    "Newton(f, grad_f, hess_f, x0, 1e-6, num_iter, wolfe_stepsize, callback=callback,  \n",
    "            alpha=1, beta=0.1, rho=0.8, beta1=0.1, beta2=0.9)\n",
    "x1_newton_wolfe = x_history\n",
    "f1_newton_wolfe = f_history\n",
    "grad_f1_newton_wolfe = grad_f_history\n",
    "\n",
    "\n",
    "\n",
    "\n",
    "\n",
    "x_history = []\n",
    "f_history = []\n",
    "grad_f_history = []\n",
    "BFGS(f, grad_f, x0, 1e-6, num_iter, linesearch_, callback=callback,  \n",
    "            alpha=1, beta=0.1, rho=0.8, beta1=0.1, beta2=0.9)\n",
    "x1_bfgs_linesearch = x_history\n",
    "f1_bfgs_linesearch = f_history\n",
    "grad_f1_bfgs_linesearch = grad_f_history\n",
    "\n",
    "\n",
    "x_history = []\n",
    "f_history = []\n",
    "grad_f_history = []\n",
    "BFGS(f, grad_f, x0, 1e-6, num_iter, sqrt_iter_stepsize, callback=callback,  \n",
    "            alpha=1, beta=0.1, rho=0.8, beta1=0.1, beta2=0.9)\n",
    "x1_bfgs_sqrtiter = x_history\n",
    "f1_bfgs_sqrtiter = f_history\n",
    "grad_f1_bfgs_sqrtiter = grad_f_history\n",
    "\n",
    "\n",
    "x_history = []\n",
    "f_history = []\n",
    "grad_f_history = []\n",
    "BFGS(f, grad_f, x0, 1e-6, num_iter, armijo_stepsize, callback=callback,  \n",
    "            alpha=1, beta=0.1, rho=0.8, beta1=0.1, beta2=0.9)\n",
    "x1_bfgs_armijo = x_history\n",
    "f1_bfgs_armijo = f_history\n",
    "grad_f1_bfgs_armijo = grad_f_history\n",
    "\n",
    "\n",
    "x_history = []\n",
    "f_history = []\n",
    "grad_f_history = []\n",
    "BFGS(f, grad_f, x0, 1e-6, num_iter, wolfe_stepsize, callback=callback,  \n",
    "            alpha=1, beta=0.1, rho=0.8, beta1=0.1, beta2=0.9)\n",
    "x1_bfgs_wolfe = x_history\n",
    "f1_bfgs_wolfe = f_history\n",
    "grad_f1_bfgs_wolfe = grad_f_history\n",
    "\n",
    "\n",
    "\n",
    "\n",
    "\n",
    "#x3 = DFP(f, grad_f, x0, 1e-6, 100, armijo_stepsize, callback=callback,  \n",
    "#            alpha=1, beta=0.1, rho=0.8, beta1=0.1, beta2=0.9)\n",
    "\n",
    "#x3 = BFGS(f, grad_f, x0, 1e-6, 100, armijo_stepsize, callback=callback,  \n",
    "#            alpha=1, beta=0.1, rho=0.8, beta1=0.1, beta2=0.9)"
   ]
  },
  {
   "cell_type": "code",
   "execution_count": 16,
   "metadata": {},
   "outputs": [
    {
     "data": {
      "image/png": "[encoded data removed]",
      "text/plain": [
       "<Figure size 432x288 with 1 Axes>"
      ]
     },
     "metadata": {
      "needs_background": "light"
     },
     "output_type": "display_data"
    },
    {
     "data": {
      "image/png": "[encoded data removed]",
      "text/plain": [
       "<Figure size 432x288 with 1 Axes>"
      ]
     },
     "metadata": {
      "needs_background": "light"
     },
     "output_type": "display_data"
    },
    {
     "data": {
      "image/png": "[encoded data removed]",
      "text/plain": [
       "<Figure size 432x288 with 1 Axes>"
      ]
     },
     "metadata": {
      "needs_background": "light"
     },
     "output_type": "display_data"
    }
   ],
   "source": [
    "iter1 = np.arange(1, len(grad_f1_newton_linesearch)+1, 1)\n",
    "iter2 = np.arange(1, len(grad_f1_newton_sqrtiter)+1, 1)\n",
    "iter3 = np.arange(1, len(grad_f1_newton_armijo)+1, 1)\n",
    "iter4 = np.arange(1, len(grad_f1_newton_wolfe)+1, 1)\n",
    "iter5 = np.arange(1, len(grad_f1_bfgs_linesearch)+1, 1)\n",
    "iter6 = np.arange(1, len(grad_f1_bfgs_sqrtiter)+1, 1)\n",
    "iter7 = np.arange(1, len(grad_f1_bfgs_armijo)+1, 1)\n",
    "iter8 = np.arange(1, len(grad_f1_bfgs_wolfe)+1, 1)\n",
    "\n",
    "plt.semilogy(iter1, f1_newton_linesearch, label='Newton,step = 1')\n",
    "plt.semilogy(iter5, f1_bfgs_linesearch, label='BFGS,step = 1')\n",
    "#plt.plot(iter7, np.log(iter7*0 + 2))\n",
    "plt.xlabel(\"iteration\")\n",
    "plt.ylabel(\"f(x)\")\n",
    "plt.legend()\n",
    "plt.title(\"Rosenbrok function\")\n",
    "plt.show()\n",
    "\n",
    "\n",
    "\n",
    "plt.semilogy(iter6, f1_bfgs_sqrtiter, label='BFGS, step = $\\dfrac{1}{\\sqrt{n+1}}$')\n",
    "plt.semilogy(iter2, f1_newton_sqrtiter, label='Newton, step = $\\dfrac{1}{\\sqrt{n+1}}$')\n",
    "\n",
    "plt.xlabel(\"iteration\")\n",
    "plt.ylabel(\"f(x)\")\n",
    "plt.legend()\n",
    "plt.show()\n",
    "\n",
    "\n",
    "\n",
    "\n",
    "plt.semilogy(iter8, f1_bfgs_wolfe, label='BFGS, step - Wolfe rule')\n",
    "plt.semilogy(iter4, f1_newton_wolfe, label='Newton, step - Wolfe rule')\n",
    "#plt.plot(iter7, np.log(iter7*0 + 2))\n",
    "plt.xlabel(\"iteration\")\n",
    "plt.ylabel(\"f(x)\")\n",
    "plt.legend()\n",
    "plt.show()"
   ]
  },
  {
   "cell_type": "code",
   "execution_count": 17,
   "metadata": {},
   "outputs": [
    {
     "data": {
      "image/png": "[encoded data removed]",
      "text/plain": [
       "<Figure size 432x288 with 1 Axes>"
      ]
     },
     "metadata": {
      "needs_background": "light"
     },
     "output_type": "display_data"
    },
    {
     "data": {
      "image/png": "[encoded data removed]",
      "text/plain": [
       "<Figure size 432x288 with 1 Axes>"
      ]
     },
     "metadata": {
      "needs_background": "light"
     },
     "output_type": "display_data"
    },
    {
     "data": {
      "image/png": "[encoded data removed]",
      "text/plain": [
       "<Figure size 432x288 with 1 Axes>"
      ]
     },
     "metadata": {
      "needs_background": "light"
     },
     "output_type": "display_data"
    }
   ],
   "source": [
    "iter1 = np.arange(1, len(grad_f1_newton_linesearch)+1, 1)\n",
    "iter2 = np.arange(1, len(grad_f1_newton_sqrtiter)+1, 1)\n",
    "iter3 = np.arange(1, len(grad_f1_newton_armijo)+1, 1)\n",
    "iter4 = np.arange(1, len(grad_f1_newton_wolfe)+1, 1)\n",
    "iter5 = np.arange(1, len(grad_f1_bfgs_linesearch)+1, 1)\n",
    "iter6 = np.arange(1, len(grad_f1_bfgs_sqrtiter)+1, 1)\n",
    "iter7 = np.arange(1, len(grad_f1_bfgs_armijo)+1, 1)\n",
    "iter8 = np.arange(1, len(grad_f1_bfgs_wolfe)+1, 1)\n",
    "\n",
    "plt.semilogy(iter1, grad_f1_newton_linesearch, label='Newton,step = 1')\n",
    "plt.semilogy(iter5, grad_f1_bfgs_linesearch, label='BFGS,step = 1')\n",
    "#plt.plot(iter7, np.log(iter7*0 + 2))\n",
    "plt.xlabel(\"iteration\")\n",
    "plt.ylabel(\"grad f(x)\")\n",
    "plt.legend()\n",
    "plt.title(\"Rosenbrok function\")\n",
    "plt.show()\n",
    "\n",
    "\n",
    "\n",
    "plt.semilogy(iter6, grad_f1_bfgs_sqrtiter, label='BFGS, step = $\\dfrac{1}{\\sqrt{n+1}}$')\n",
    "plt.semilogy(iter2, grad_f1_newton_sqrtiter, label='Newton, step = $\\dfrac{1}{\\sqrt{n+1}}$')\n",
    "\n",
    "plt.xlabel(\"iteration\")\n",
    "plt.ylabel(\"grad f(x)\")\n",
    "plt.legend()\n",
    "plt.show()\n",
    "\n",
    "\n",
    "\n",
    "\n",
    "plt.semilogy(iter8, grad_f1_bfgs_wolfe, label='BFGS, step - Wolfe rule')\n",
    "plt.semilogy(iter4, grad_f1_newton_wolfe, label='Newton, step - Wolfe rule')\n",
    "#plt.plot(iter7, np.log(iter7*0 + 2))\n",
    "plt.xlabel(\"iteration\")\n",
    "plt.ylabel(\"grad f(x)\")\n",
    "plt.legend()\n",
    "plt.show()"
   ]
  },
  {
   "cell_type": "markdown",
   "metadata": {},
   "source": [
    "- BFGS метод и сравнение с Ньютоновским для задачи..."
   ]
  },
  {
   "cell_type": "code",
   "execution_count": 18,
   "metadata": {
    "scrolled": true
   },
   "outputs": [
    {
     "name": "stderr",
     "output_type": "stream",
     "text": [
      "c:\\dev\\python372\\lib\\site-packages\\ipykernel_launcher.py:29: RuntimeWarning: overflow encountered in exp\n",
      "c:\\dev\\python372\\lib\\site-packages\\ipykernel_launcher.py:52: RuntimeWarning: overflow encountered in exp\n",
      "c:\\dev\\python372\\lib\\site-packages\\ipykernel_launcher.py:52: RuntimeWarning: invalid value encountered in add\n",
      "c:\\dev\\python372\\lib\\site-packages\\ipykernel_launcher.py:42: RuntimeWarning: overflow encountered in exp\n",
      "c:\\dev\\python372\\lib\\site-packages\\ipykernel_launcher.py:64: RuntimeWarning: overflow encountered in exp\n",
      "c:\\dev\\python372\\lib\\site-packages\\ipykernel_launcher.py:70: RuntimeWarning: invalid value encountered in true_divide\n",
      "c:\\dev\\python372\\lib\\site-packages\\ipykernel_launcher.py:12: RuntimeWarning: invalid value encountered in greater\n",
      "  if sys.path[0] == '':\n"
     ]
    },
    {
     "name": "stdout",
     "output_type": "stream",
     "text": [
      "Estimated time:  1.0897204875946045\n",
      "Estimated time:  0.14209818840026855\n",
      "Estimated time:  15.800474405288696\n"
     ]
    },
    {
     "name": "stderr",
     "output_type": "stream",
     "text": [
      "c:\\dev\\python372\\lib\\site-packages\\ipykernel_launcher.py:55: RuntimeWarning: invalid value encountered in true_divide\n"
     ]
    },
    {
     "name": "stdout",
     "output_type": "stream",
     "text": [
      "Estimated time:  0.7124717235565186\n",
      "Estimated time:  1.113567590713501\n"
     ]
    },
    {
     "name": "stderr",
     "output_type": "stream",
     "text": [
      "c:\\dev\\python372\\lib\\site-packages\\ipykernel_launcher.py:52: RuntimeWarning: overflow encountered in multiply\n",
      "c:\\dev\\python372\\lib\\site-packages\\ipykernel_launcher.py:88: RuntimeWarning: invalid value encountered in matmul\n"
     ]
    },
    {
     "name": "stdout",
     "output_type": "stream",
     "text": [
      "Estimated time:  10.753118515014648\n",
      "Estimated time:  18.980369329452515\n"
     ]
    }
   ],
   "source": [
    "#define a, b, x0\n",
    "\n",
    "a = np.array([[1,2,1], [-4,-5,-6], [2,3,1]])\n",
    "b = np.array([1,2, -1])\n",
    "x0 =  np.array([0,1,-2])\n",
    "\n",
    "def max_degree(x, a=a, b=b):\n",
    "    num = 0\n",
    "    max_deg = a[0].T @ x + b[0]\n",
    "    for i in range(a.shape[0]):\n",
    "        competitor = a[0].T @ x + b[0]\n",
    "        if (competitor > max_deg):\n",
    "            num = i\n",
    "            max_deg = competitor\n",
    "    #print(\"num=\", num)\n",
    "    #print(\"\")\n",
    "    #print(\"max_deg = \", max_deg)\n",
    "    #print(\"\")\n",
    "    return num\n",
    "\n",
    "\n",
    "def f(x, a=a, b=b):\n",
    "    x = np.array(x)\n",
    "    x = x.reshape((x.size, 1))\n",
    "    max_index = max_degree(x,a,b)\n",
    "    max_deg = a[max_index].T @ x + b[max_index]\n",
    "    rest = 0\n",
    "    for i in range(a.shape[0]):\n",
    "        rest = rest + np.exp(a[i].T @ x + b[i] - max_deg)\n",
    "    #print(\"max_deg=\", max_deg, \" np.log(rest) = \", np.log(rest))\n",
    "    #print(\"\")\n",
    "    return max_deg + np.log(rest)\n",
    "\n",
    "\n",
    "def sum_exp(x,a=a,b=b):\n",
    "    x = np.array(x)\n",
    "    x = x.reshape((x.size, 1))\n",
    "    max_index = max_degree(x,a,b)\n",
    "    max_deg = a[max_index].T @ x + b[max_index]\n",
    "    ret = 0\n",
    "    for i in range(a.shape[0]):\n",
    "        ret = ret + np.exp(a[i].T @ x + b[i] - max_deg)\n",
    "    return ret\n",
    "\n",
    "def grad_f(x, a=a, b=b):\n",
    "    x = np.array(x)\n",
    "    x = x.reshape((x.size, 1))\n",
    "    max_index = max_degree(x,a,b)\n",
    "    max_deg = a[max_index].T @ x + b[max_index]\n",
    "    ret = np.zeros(x.size)\n",
    "    for i in range(a.shape[0]):\n",
    "        ret = ret + (np.exp(a[i].T @ x + b[i] - max_deg) * a[i])\n",
    "    #print(\"grad = \", ret / sum_exp(x,a,b))\n",
    "    #print(\"\")\n",
    "    return ret / sum_exp(x,a,b)\n",
    "\n",
    "def hess_f(x, a=a, b=b):\n",
    "    x = np.array(x)\n",
    "    x = x.reshape((x.size, 1))\n",
    "    max_index = max_degree(x,a,b)\n",
    "    max_deg = a[max_index].T @ x + b[max_index]\n",
    "    ret = np.zeros((x.size, x.size))\n",
    "    for i in range(a.shape[0]):\n",
    "        ret = ret + np.exp(a[i].T @ x + b[i] - max_deg) * np.dot(a[i].reshape(a.shape[1],1) , a[i].reshape(1,a.shape[1]))\n",
    "    grad_tmp = grad_f(x,a,b)\n",
    "    #print(\"ret / sum_exp(x,a,b) = \", ret / sum_exp(x,a,b))\n",
    "    #print(\"\")\n",
    "    #print(\"grad * grad = \", np.dot(grad_tmp.reshape(a.shape[1],1) , grad_tmp.reshape(1,a.shape[1])))\n",
    "    #print(\"\")\n",
    "    return ret / sum_exp(x,a,b) - np.dot(grad_tmp.reshape(a.shape[1],1) , grad_tmp.reshape(1,a.shape[1]))\n",
    "\n",
    "\n",
    "\n",
    "\n",
    "\n",
    "\n",
    "x_history = []\n",
    "f_history = []\n",
    "grad_f_history = []\n",
    "Newton(f, grad_f, hess_f, x0, 1e-6, num_iter, linesearch_, callback=callback,  \n",
    "        alpha=1, beta=0.1, rho=0.8, beta1=0.1, beta2=0.9)\n",
    "x2_newton_linesearch = x_history\n",
    "f2_newton_linesearch = f_history\n",
    "grad_f2_newton_linesearch = grad_f_history\n",
    "\n",
    "\n",
    "x_history = []\n",
    "f_history = []\n",
    "grad_f_history = []\n",
    "Newton(f, grad_f, hess_f, x0, 1e-6, num_iter, sqrt_iter_stepsize, callback=callback,  \n",
    "       alpha=1, beta=0.1, rho=0.8, beta1=0.1, beta2=0.9)\n",
    "x2_newton_sqrtiter = x_history\n",
    "f2_newton_sqrtiter = f_history\n",
    "grad_f2_newton_sqrtiter = grad_f_history\n",
    "\n",
    "\n",
    "#x_history = []\n",
    "#f_history = []\n",
    "#grad_f_history = []\n",
    "#Newton(f, grad_f, hess_f, x0, 1e-6, num_iter, armijo_stepsize, callback=callback,  \n",
    "#        alpha=1, beta=0.1, rho=0.8, beta1=0.1, beta2=0.9)\n",
    "#x2_newton_armijo = x_history\n",
    "#f2_newton_armijo = f_history\n",
    "#grad_f2_newton_armijo = grad_f_history\n",
    "\n",
    "\n",
    "x_history = []\n",
    "f_history = []\n",
    "grad_f_history = []\n",
    "Newton(f, grad_f, hess_f, x0, 1e-6, num_iter, wolfe_stepsize, callback=callback,  \n",
    "        alpha=1, beta=0.1, rho=0.8, beta1=0.1, beta2=0.9)\n",
    "x2_newton_wolfe = x_history\n",
    "f2_newton_wolfe = f_history\n",
    "grad_f2_newton_wolfe = grad_f_history\n",
    "\n",
    "\n",
    "\n",
    "\n",
    "\n",
    "x_history = []\n",
    "f_history = []\n",
    "grad_f_history = []\n",
    "BFGS(f, grad_f, x0, 1e-6, num_iter, linesearch_, callback=callback,  \n",
    "     alpha=1, beta=0.1, rho=0.8, beta1=0.1, beta2=0.9)\n",
    "x2_bfgs_linesearch = x_history\n",
    "f2_bfgs_linesearch = f_history\n",
    "grad_f2_bfgs_linesearch = grad_f_history\n",
    "\n",
    "\n",
    "x_history = []\n",
    "f_history = []\n",
    "grad_f_history = []\n",
    "BFGS(f, grad_f, x0, 1e-6, num_iter, sqrt_iter_stepsize, callback=callback,  \n",
    "     alpha=1, beta=0.1, rho=0.8, beta1=0.1, beta2=0.9)\n",
    "x2_bfgs_sqrtiter = x_history\n",
    "f2_bfgs_sqrtiter = f_history\n",
    "grad_f2_bfgs_sqrtiter = grad_f_history\n",
    "\n",
    "\n",
    "x_history = []\n",
    "f_history = []\n",
    "grad_f_history = []\n",
    "BFGS(f, grad_f, x0, 1e-6, num_iter, armijo_stepsize, callback=callback,  \n",
    "     alpha=1, beta=0.1, rho=0.8, beta1=0.1, beta2=0.9)\n",
    "x2_bfgs_armijo = x_history\n",
    "f2_bfgs_armijo = f_history\n",
    "grad_f2_bfgs_armijo = grad_f_history\n",
    "\n",
    "\n",
    "x_history = []\n",
    "f_history = []\n",
    "grad_f_history = []\n",
    "BFGS(f, grad_f, x0, 1e-6, num_iter, wolfe_stepsize, callback=callback,  \n",
    "     alpha=1, beta=0.1, rho=0.8, beta1=0.1, beta2=0.9)\n",
    "x2_bfgs_wolfe = x_history\n",
    "f2_bfgs_wolfe = f_history\n",
    "grad_f2_bfgs_wolfe = grad_f_history\n",
    "\n"
   ]
  },
  {
   "cell_type": "markdown",
   "metadata": {},
   "source": [
    "С ньютоновскими методами ничего не получилось - гессиан слишком мал, из-за чего x на следующей итерации становится большим. Большой аргумент при экспоненте приводит к nan."
   ]
  },
  {
   "cell_type": "code",
   "execution_count": 19,
   "metadata": {},
   "outputs": [
    {
     "name": "stdout",
     "output_type": "stream",
     "text": [
      "hess=  [[0.01281759 0.0176487  0.01690888]\n",
      " [0.0176487  0.02431362 0.0233272 ]\n",
      " [0.01690888 0.0233272  0.02246413]]\n",
      "\n",
      "grad =  [-3.99758334 -4.99666601 -5.99678937]\n"
     ]
    }
   ],
   "source": [
    "print(\"hess= \", hess_f(x0))\n",
    "print(\"\")\n",
    "print(\"grad = \", grad_f(x0))"
   ]
  },
  {
   "cell_type": "code",
   "execution_count": 20,
   "metadata": {
    "scrolled": true
   },
   "outputs": [
    {
     "data": {
      "image/png": "[encoded data removed]",
      "text/plain": [
       "<Figure size 432x288 with 1 Axes>"
      ]
     },
     "metadata": {
      "needs_background": "light"
     },
     "output_type": "display_data"
    }
   ],
   "source": [
    "iter1 = np.arange(1, len(grad_f2_newton_linesearch)+1, 1)\n",
    "iter2 = np.arange(1, len(grad_f2_newton_sqrtiter)+1, 1)\n",
    "iter4 = np.arange(1, len(grad_f2_newton_wolfe)+1, 1)\n",
    "iter5 = np.arange(1, len(grad_f2_bfgs_linesearch)+1, 1)\n",
    "iter6 = np.arange(1, len(grad_f2_bfgs_sqrtiter)+1, 1)\n",
    "iter7 = np.arange(1, len(grad_f2_bfgs_armijo)+1, 1)\n",
    "iter8 = np.arange(1, len(grad_f2_bfgs_wolfe)+1, 1)\n",
    "\n",
    "plt.semilogy(iter1, f2_newton_linesearch, label='Newton,step = 1')\n",
    "plt.semilogy(iter2, f2_newton_sqrtiter, label='Newton, step = $\\dfrac{1}{\\sqrt{n+1}}$')\n",
    "plt.semilogy(iter4, f2_newton_wolfe, label='Newton, step - Wolfe rule')\n",
    "plt.xlabel(\"iteration\")\n",
    "plt.ylabel(\"f(x)\")\n",
    "plt.legend()\n",
    "plt.title(\"log(sum(exp(ax+b)))\")\n",
    "plt.show()\n",
    "\n"
   ]
  },
  {
   "cell_type": "code",
   "execution_count": 21,
   "metadata": {},
   "outputs": [
    {
     "data": {
      "image/png": "[encoded data removed]",
      "text/plain": [
       "<Figure size 432x288 with 1 Axes>"
      ]
     },
     "metadata": {
      "needs_background": "light"
     },
     "output_type": "display_data"
    }
   ],
   "source": [
    "plt.semilogy(iter1, grad_f2_newton_linesearch, label='Newton,step = 1')\n",
    "plt.semilogy(iter2, grad_f2_newton_sqrtiter, label='Newton, step = $\\dfrac{1}{\\sqrt{n+1}}$')\n",
    "plt.semilogy(iter4, grad_f2_newton_wolfe, label='Newton, step - Wolfe rule')\n",
    "plt.xlabel(\"iteration\")\n",
    "plt.ylabel(\"grad f(x)\")\n",
    "plt.legend()\n",
    "plt.title(\"log(sum(exp(ax+b)))\")\n",
    "plt.show()"
   ]
  },
  {
   "cell_type": "markdown",
   "metadata": {},
   "source": [
    "С BFGS тоже ничего не вышло. Видимо, логарифм от суммы экспонент слишком жуток, к нему нужен какой-то особый подход. Например, как-то по другому вычислять градиент."
   ]
  },
  {
   "cell_type": "code",
   "execution_count": 22,
   "metadata": {},
   "outputs": [
    {
     "data": {
      "image/png": "[encoded data removed]",
      "text/plain": [
       "<Figure size 432x288 with 1 Axes>"
      ]
     },
     "metadata": {
      "needs_background": "light"
     },
     "output_type": "display_data"
    },
    {
     "data": {
      "image/png": "[encoded data removed]",
      "text/plain": [
       "<Figure size 432x288 with 1 Axes>"
      ]
     },
     "metadata": {
      "needs_background": "light"
     },
     "output_type": "display_data"
    }
   ],
   "source": [
    "\n",
    "plt.semilogy(iter7, f2_bfgs_armijo, label='BFGS, step - Armijo rule')\n",
    "plt.xlabel(\"iteration\")\n",
    "plt.ylabel(\"f(x)\")\n",
    "plt.legend()\n",
    "plt.show()\n",
    "\n",
    "\n",
    "\n",
    "plt.semilogy(iter7, grad_f2_bfgs_armijo, label='BFGS, step - Armijo rule')\n",
    "plt.xlabel(\"iteration\")\n",
    "plt.ylabel(\"grad f(x)\")\n",
    "plt.legend()\n",
    "plt.show()\n",
    "\n"
   ]
  },
  {
   "cell_type": "markdown",
   "metadata": {},
   "source": [
    "## Задача 4 (1 pts)\n",
    "\n",
    "Предложите свой квазиньютоновский метод, реализуйте его и сравните скорость его сходимости (по времени и по итерациям) с методом Ньютона и с методом BFGS, который Вы реализовали в задаче 3. Для сравнения используйте задачу \n",
    "\n",
    "$$\n",
    "    \\min_x \\log \\left( \\sum_{i=1}^m \\exp(a_i^{\\top}x + b_i)\\right).\n",
    "$$\n",
    "\n",
    "Обоснуйте (хотя бы в общих чертах), почему Ваш метод будет работать. \n",
    "Строгого доказательства я не требую, но мотивацию, которой Вы руководствовались, пожалуйста, приведите. "
   ]
  }
 ],
 "metadata": {
  "anaconda-cloud": {},
  "kernelspec": {
   "display_name": "Python 3",
   "language": "python",
   "name": "python3"
  },
  "language_info": {
   "codemirror_mode": {
    "name": "ipython",
    "version": 3
   },
   "file_extension": ".py",
   "mimetype": "text/x-python",
   "name": "python",
   "nbconvert_exporter": "python",
   "pygments_lexer": "ipython3",
   "version": "3.7.2"
  }
 },
 "nbformat": 4,
 "nbformat_minor": 1
}
